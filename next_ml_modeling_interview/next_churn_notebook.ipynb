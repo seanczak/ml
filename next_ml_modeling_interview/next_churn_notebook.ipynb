{
 "cells": [
  {
   "cell_type": "markdown",
   "metadata": {
    "Collapsed": "false"
   },
   "source": [
    "**Dataset**\\\n",
    "Each row in the dataset is anonymized real policy data. A policy is considered churned if the difference between the start and end date is less than 1 year.\n",
    "\n",
    "**Problem**\\\n",
    "Develop a model to predict a policy's probability to churn at time of sale."
   ]
  },
  {
   "cell_type": "code",
   "execution_count": 31,
   "metadata": {
    "tags": []
   },
   "outputs": [],
   "source": [
    "import pandas as pd, numpy as np\n",
    "\n",
    "import matplotlib.pyplot as plt\n",
    "import seaborn as sns\n",
    "plt.style.use('ggplot')\n",
    "plt.style.use(['dark_background'])"
   ]
  },
  {
   "cell_type": "code",
   "execution_count": 58,
   "metadata": {
    "Collapsed": "false",
    "tags": []
   },
   "outputs": [
    {
     "data": {
      "text/html": [
       "<div>\n",
       "<style scoped>\n",
       "    .dataframe tbody tr th:only-of-type {\n",
       "        vertical-align: middle;\n",
       "    }\n",
       "\n",
       "    .dataframe tbody tr th {\n",
       "        vertical-align: top;\n",
       "    }\n",
       "\n",
       "    .dataframe thead th {\n",
       "        text-align: right;\n",
       "    }\n",
       "</style>\n",
       "<table border=\"1\" class=\"dataframe\">\n",
       "  <thead>\n",
       "    <tr style=\"text-align: right;\">\n",
       "      <th></th>\n",
       "      <th>customer_id</th>\n",
       "      <th>start_date</th>\n",
       "      <th>end_date</th>\n",
       "      <th>years_of_experience</th>\n",
       "      <th>channel</th>\n",
       "      <th>geo</th>\n",
       "      <th>profession_id</th>\n",
       "      <th>cancellation_reason</th>\n",
       "      <th>churn</th>\n",
       "    </tr>\n",
       "  </thead>\n",
       "  <tbody>\n",
       "    <tr>\n",
       "      <th>0</th>\n",
       "      <td>d18013b0edd9a43a0fdb67c8cfbc3342</td>\n",
       "      <td>2019-09-05</td>\n",
       "      <td>2019-11-04</td>\n",
       "      <td>5.0</td>\n",
       "      <td>channel sales</td>\n",
       "      <td>TX</td>\n",
       "      <td>5010</td>\n",
       "      <td>Non-Payment</td>\n",
       "      <td>0</td>\n",
       "    </tr>\n",
       "    <tr>\n",
       "      <th>1</th>\n",
       "      <td>9f618809d3a625ddd81ce0d8237c99dd</td>\n",
       "      <td>2020-02-24</td>\n",
       "      <td>2020-04-14</td>\n",
       "      <td>5.0</td>\n",
       "      <td>organic</td>\n",
       "      <td>OH</td>\n",
       "      <td>100003</td>\n",
       "      <td>Insured is no longer in business</td>\n",
       "      <td>0</td>\n",
       "    </tr>\n",
       "    <tr>\n",
       "      <th>2</th>\n",
       "      <td>47e9c803736f0999430324aaaba6046c</td>\n",
       "      <td>2019-08-26</td>\n",
       "      <td>2019-10-26</td>\n",
       "      <td>5.0</td>\n",
       "      <td>sem</td>\n",
       "      <td>FL</td>\n",
       "      <td>5006</td>\n",
       "      <td>Non-Payment</td>\n",
       "      <td>0</td>\n",
       "    </tr>\n",
       "    <tr>\n",
       "      <th>3</th>\n",
       "      <td>825463b772f05057975b61988718e6af</td>\n",
       "      <td>2019-10-09</td>\n",
       "      <td>2019-11-18</td>\n",
       "      <td>10.0</td>\n",
       "      <td>sem</td>\n",
       "      <td>OH</td>\n",
       "      <td>100001</td>\n",
       "      <td>I had a short-term need for insurance that has...</td>\n",
       "      <td>0</td>\n",
       "    </tr>\n",
       "    <tr>\n",
       "      <th>4</th>\n",
       "      <td>66a8c47b8ecaaed6fc1031b1d9ab1e3c</td>\n",
       "      <td>2019-04-08</td>\n",
       "      <td>2020-04-08</td>\n",
       "      <td>5.0</td>\n",
       "      <td>sem</td>\n",
       "      <td>MD</td>\n",
       "      <td>100040</td>\n",
       "      <td>NaN</td>\n",
       "      <td>1</td>\n",
       "    </tr>\n",
       "  </tbody>\n",
       "</table>\n",
       "</div>"
      ],
      "text/plain": [
       "                        customer_id start_date   end_date   \n",
       "0  d18013b0edd9a43a0fdb67c8cfbc3342 2019-09-05 2019-11-04  \\\n",
       "1  9f618809d3a625ddd81ce0d8237c99dd 2020-02-24 2020-04-14   \n",
       "2  47e9c803736f0999430324aaaba6046c 2019-08-26 2019-10-26   \n",
       "3  825463b772f05057975b61988718e6af 2019-10-09 2019-11-18   \n",
       "4  66a8c47b8ecaaed6fc1031b1d9ab1e3c 2019-04-08 2020-04-08   \n",
       "\n",
       "   years_of_experience        channel geo  profession_id   \n",
       "0                  5.0  channel sales  TX           5010  \\\n",
       "1                  5.0        organic  OH         100003   \n",
       "2                  5.0            sem  FL           5006   \n",
       "3                 10.0            sem  OH         100001   \n",
       "4                  5.0            sem  MD         100040   \n",
       "\n",
       "                                 cancellation_reason  churn  \n",
       "0                                        Non-Payment      0  \n",
       "1                   Insured is no longer in business      0  \n",
       "2                                        Non-Payment      0  \n",
       "3  I had a short-term need for insurance that has...      0  \n",
       "4                                                NaN      1  "
      ]
     },
     "execution_count": 58,
     "metadata": {},
     "output_type": "execute_result"
    }
   ],
   "source": [
    "import os\n",
    "import pandas as pd\n",
    "\n",
    "df = pd.read_csv(os.getcwd() + '/churn_data.csv', parse_dates=['start_date','end_date'])\n",
    "\n",
    "ndays = ((df.end_date - df.start_date)).astype(int) / 1e9 / 60 / 60 / 24\n",
    "df['churn'] = (ndays > 365).astype(int)\n",
    "\n",
    "df.head()"
   ]
  },
  {
   "cell_type": "code",
   "execution_count": 59,
   "metadata": {
    "Collapsed": "false",
    "tags": []
   },
   "outputs": [
    {
     "data": {
      "text/html": [
       "<div>\n",
       "<style scoped>\n",
       "    .dataframe tbody tr th:only-of-type {\n",
       "        vertical-align: middle;\n",
       "    }\n",
       "\n",
       "    .dataframe tbody tr th {\n",
       "        vertical-align: top;\n",
       "    }\n",
       "\n",
       "    .dataframe thead th {\n",
       "        text-align: right;\n",
       "    }\n",
       "</style>\n",
       "<table border=\"1\" class=\"dataframe\">\n",
       "  <thead>\n",
       "    <tr style=\"text-align: right;\">\n",
       "      <th></th>\n",
       "      <th>customer_id</th>\n",
       "      <th>start_date</th>\n",
       "      <th>end_date</th>\n",
       "      <th>years_of_experience</th>\n",
       "      <th>channel</th>\n",
       "      <th>geo</th>\n",
       "      <th>profession_id</th>\n",
       "      <th>cancellation_reason</th>\n",
       "      <th>churn</th>\n",
       "      <th>nchan</th>\n",
       "      <th>ngeo</th>\n",
       "    </tr>\n",
       "  </thead>\n",
       "  <tbody>\n",
       "    <tr>\n",
       "      <th>0</th>\n",
       "      <td>d18013b0edd9a43a0fdb67c8cfbc3342</td>\n",
       "      <td>2019-09-05</td>\n",
       "      <td>2019-11-04</td>\n",
       "      <td>5.0</td>\n",
       "      <td>channel sales</td>\n",
       "      <td>TX</td>\n",
       "      <td>5010</td>\n",
       "      <td>Non-Payment</td>\n",
       "      <td>0</td>\n",
       "      <td>1</td>\n",
       "      <td>42</td>\n",
       "    </tr>\n",
       "    <tr>\n",
       "      <th>1</th>\n",
       "      <td>9f618809d3a625ddd81ce0d8237c99dd</td>\n",
       "      <td>2020-02-24</td>\n",
       "      <td>2020-04-14</td>\n",
       "      <td>5.0</td>\n",
       "      <td>organic</td>\n",
       "      <td>OH</td>\n",
       "      <td>100003</td>\n",
       "      <td>Insured is no longer in business</td>\n",
       "      <td>0</td>\n",
       "      <td>6</td>\n",
       "      <td>34</td>\n",
       "    </tr>\n",
       "    <tr>\n",
       "      <th>2</th>\n",
       "      <td>47e9c803736f0999430324aaaba6046c</td>\n",
       "      <td>2019-08-26</td>\n",
       "      <td>2019-10-26</td>\n",
       "      <td>5.0</td>\n",
       "      <td>sem</td>\n",
       "      <td>FL</td>\n",
       "      <td>5006</td>\n",
       "      <td>Non-Payment</td>\n",
       "      <td>0</td>\n",
       "      <td>7</td>\n",
       "      <td>9</td>\n",
       "    </tr>\n",
       "    <tr>\n",
       "      <th>3</th>\n",
       "      <td>825463b772f05057975b61988718e6af</td>\n",
       "      <td>2019-10-09</td>\n",
       "      <td>2019-11-18</td>\n",
       "      <td>10.0</td>\n",
       "      <td>sem</td>\n",
       "      <td>OH</td>\n",
       "      <td>100001</td>\n",
       "      <td>I had a short-term need for insurance that has...</td>\n",
       "      <td>0</td>\n",
       "      <td>7</td>\n",
       "      <td>34</td>\n",
       "    </tr>\n",
       "    <tr>\n",
       "      <th>4</th>\n",
       "      <td>66a8c47b8ecaaed6fc1031b1d9ab1e3c</td>\n",
       "      <td>2019-04-08</td>\n",
       "      <td>2020-04-08</td>\n",
       "      <td>5.0</td>\n",
       "      <td>sem</td>\n",
       "      <td>MD</td>\n",
       "      <td>100040</td>\n",
       "      <td>NaN</td>\n",
       "      <td>1</td>\n",
       "      <td>7</td>\n",
       "      <td>20</td>\n",
       "    </tr>\n",
       "  </tbody>\n",
       "</table>\n",
       "</div>"
      ],
      "text/plain": [
       "                        customer_id start_date   end_date   \n",
       "0  d18013b0edd9a43a0fdb67c8cfbc3342 2019-09-05 2019-11-04  \\\n",
       "1  9f618809d3a625ddd81ce0d8237c99dd 2020-02-24 2020-04-14   \n",
       "2  47e9c803736f0999430324aaaba6046c 2019-08-26 2019-10-26   \n",
       "3  825463b772f05057975b61988718e6af 2019-10-09 2019-11-18   \n",
       "4  66a8c47b8ecaaed6fc1031b1d9ab1e3c 2019-04-08 2020-04-08   \n",
       "\n",
       "   years_of_experience        channel geo  profession_id   \n",
       "0                  5.0  channel sales  TX           5010  \\\n",
       "1                  5.0        organic  OH         100003   \n",
       "2                  5.0            sem  FL           5006   \n",
       "3                 10.0            sem  OH         100001   \n",
       "4                  5.0            sem  MD         100040   \n",
       "\n",
       "                                 cancellation_reason  churn  nchan  ngeo  \n",
       "0                                        Non-Payment      0      1    42  \n",
       "1                   Insured is no longer in business      0      6    34  \n",
       "2                                        Non-Payment      0      7     9  \n",
       "3  I had a short-term need for insurance that has...      0      7    34  \n",
       "4                                                NaN      1      7    20  "
      ]
     },
     "execution_count": 59,
     "metadata": {},
     "output_type": "execute_result"
    }
   ],
   "source": [
    "df['nchan']=df['channel'].astype('category').cat.codes\n",
    "df['ngeo']=df['geo'].astype('category').cat.codes\n",
    "df.head()\n"
   ]
  },
  {
   "cell_type": "code",
   "execution_count": 55,
   "metadata": {
    "tags": []
   },
   "outputs": [
    {
     "data": {
      "text/plain": [
       "customer_id                0\n",
       "start_date                 0\n",
       "end_date                   0\n",
       "years_of_experience        0\n",
       "channel                   66\n",
       "geo                        0\n",
       "profession_id              0\n",
       "cancellation_reason    19116\n",
       "nchan                      0\n",
       "ngeo                       0\n",
       "dtype: int64"
      ]
     },
     "execution_count": 55,
     "metadata": {},
     "output_type": "execute_result"
    }
   ],
   "source": [
    "df.isna().sum()"
   ]
  },
  {
   "cell_type": "code",
   "execution_count": 3,
   "metadata": {
    "Collapsed": "false",
    "tags": []
   },
   "outputs": [
    {
     "data": {
      "text/plain": [
       "customer_id                    object\n",
       "start_date             datetime64[ns]\n",
       "end_date               datetime64[ns]\n",
       "years_of_experience           float64\n",
       "channel                        object\n",
       "geo                            object\n",
       "profession_id                   int64\n",
       "cancellation_reason            object\n",
       "dtype: object"
      ]
     },
     "execution_count": 3,
     "metadata": {},
     "output_type": "execute_result"
    }
   ],
   "source": [
    "df.dtypes"
   ]
  },
  {
   "cell_type": "code",
   "execution_count": 86,
   "metadata": {
    "tags": []
   },
   "outputs": [
    {
     "data": {
      "text/plain": [
       "0        d18013b0edd9a43a0fdb67c8cfbc3342\n",
       "1        9f618809d3a625ddd81ce0d8237c99dd\n",
       "2        47e9c803736f0999430324aaaba6046c\n",
       "3        825463b772f05057975b61988718e6af\n",
       "4        66a8c47b8ecaaed6fc1031b1d9ab1e3c\n",
       "                       ...               \n",
       "29656    946fccfb338a23416131ff24ac468230\n",
       "29657    f4d071f7e0da61833cb50acb28bf64ca\n",
       "29658    4034b58937d0d3ac0c53ab857e5aa371\n",
       "29659    07f8603a41d6917691686b4e06060949\n",
       "29660    dfbdfffe00aad24bf8b177c67e9dbc68\n",
       "Length: 29661, dtype: object"
      ]
     },
     "execution_count": 86,
     "metadata": {},
     "output_type": "execute_result"
    }
   ],
   "source": [
    "unique_ids = pd.Series(df.customer_id.unique())\n",
    "unique_ids"
   ]
  },
  {
   "cell_type": "code",
   "execution_count": 83,
   "metadata": {
    "tags": []
   },
   "outputs": [
    {
     "data": {
      "text/html": [
       "<div>\n",
       "<style scoped>\n",
       "    .dataframe tbody tr th:only-of-type {\n",
       "        vertical-align: middle;\n",
       "    }\n",
       "\n",
       "    .dataframe tbody tr th {\n",
       "        vertical-align: top;\n",
       "    }\n",
       "\n",
       "    .dataframe thead th {\n",
       "        text-align: right;\n",
       "    }\n",
       "</style>\n",
       "<table border=\"1\" class=\"dataframe\">\n",
       "  <thead>\n",
       "    <tr style=\"text-align: right;\">\n",
       "      <th></th>\n",
       "      <th>customer_id</th>\n",
       "      <th>start_date</th>\n",
       "      <th>end_date</th>\n",
       "      <th>years_of_experience</th>\n",
       "      <th>channel</th>\n",
       "      <th>geo</th>\n",
       "      <th>profession_id</th>\n",
       "      <th>cancellation_reason</th>\n",
       "      <th>churn</th>\n",
       "      <th>nchan</th>\n",
       "      <th>ngeo</th>\n",
       "    </tr>\n",
       "  </thead>\n",
       "  <tbody>\n",
       "    <tr>\n",
       "      <th>1</th>\n",
       "      <td>9f618809d3a625ddd81ce0d8237c99dd</td>\n",
       "      <td>2020-02-24</td>\n",
       "      <td>2020-04-14</td>\n",
       "      <td>5.0</td>\n",
       "      <td>organic</td>\n",
       "      <td>OH</td>\n",
       "      <td>100003</td>\n",
       "      <td>Insured is no longer in business</td>\n",
       "      <td>0</td>\n",
       "      <td>6</td>\n",
       "      <td>34</td>\n",
       "    </tr>\n",
       "    <tr>\n",
       "      <th>2</th>\n",
       "      <td>47e9c803736f0999430324aaaba6046c</td>\n",
       "      <td>2019-08-26</td>\n",
       "      <td>2019-10-26</td>\n",
       "      <td>5.0</td>\n",
       "      <td>sem</td>\n",
       "      <td>FL</td>\n",
       "      <td>5006</td>\n",
       "      <td>Non-Payment</td>\n",
       "      <td>0</td>\n",
       "      <td>7</td>\n",
       "      <td>9</td>\n",
       "    </tr>\n",
       "    <tr>\n",
       "      <th>3</th>\n",
       "      <td>825463b772f05057975b61988718e6af</td>\n",
       "      <td>2019-10-09</td>\n",
       "      <td>2019-11-18</td>\n",
       "      <td>10.0</td>\n",
       "      <td>sem</td>\n",
       "      <td>OH</td>\n",
       "      <td>100001</td>\n",
       "      <td>I had a short-term need for insurance that has...</td>\n",
       "      <td>0</td>\n",
       "      <td>7</td>\n",
       "      <td>34</td>\n",
       "    </tr>\n",
       "    <tr>\n",
       "      <th>4</th>\n",
       "      <td>66a8c47b8ecaaed6fc1031b1d9ab1e3c</td>\n",
       "      <td>2019-04-08</td>\n",
       "      <td>2020-04-08</td>\n",
       "      <td>5.0</td>\n",
       "      <td>sem</td>\n",
       "      <td>MD</td>\n",
       "      <td>100040</td>\n",
       "      <td>NaN</td>\n",
       "      <td>1</td>\n",
       "      <td>7</td>\n",
       "      <td>20</td>\n",
       "    </tr>\n",
       "    <tr>\n",
       "      <th>5</th>\n",
       "      <td>5ee75848b7158fb5db677259a882787e</td>\n",
       "      <td>2020-01-13</td>\n",
       "      <td>2021-01-13</td>\n",
       "      <td>5.0</td>\n",
       "      <td>sem</td>\n",
       "      <td>PA</td>\n",
       "      <td>5010</td>\n",
       "      <td>NaN</td>\n",
       "      <td>1</td>\n",
       "      <td>7</td>\n",
       "      <td>37</td>\n",
       "    </tr>\n",
       "  </tbody>\n",
       "</table>\n",
       "</div>"
      ],
      "text/plain": [
       "                        customer_id start_date   end_date   \n",
       "1  9f618809d3a625ddd81ce0d8237c99dd 2020-02-24 2020-04-14  \\\n",
       "2  47e9c803736f0999430324aaaba6046c 2019-08-26 2019-10-26   \n",
       "3  825463b772f05057975b61988718e6af 2019-10-09 2019-11-18   \n",
       "4  66a8c47b8ecaaed6fc1031b1d9ab1e3c 2019-04-08 2020-04-08   \n",
       "5  5ee75848b7158fb5db677259a882787e 2020-01-13 2021-01-13   \n",
       "\n",
       "   years_of_experience  channel geo  profession_id   \n",
       "1                  5.0  organic  OH         100003  \\\n",
       "2                  5.0      sem  FL           5006   \n",
       "3                 10.0      sem  OH         100001   \n",
       "4                  5.0      sem  MD         100040   \n",
       "5                  5.0      sem  PA           5010   \n",
       "\n",
       "                                 cancellation_reason  churn  nchan  ngeo  \n",
       "1                   Insured is no longer in business      0      6    34  \n",
       "2                                        Non-Payment      0      7     9  \n",
       "3  I had a short-term need for insurance that has...      0      7    34  \n",
       "4                                                NaN      1      7    20  \n",
       "5                                                NaN      1      7    37  "
      ]
     },
     "metadata": {},
     "output_type": "display_data"
    },
    {
     "data": {
      "text/plain": [
       "((23839, 11), (3083, 11), (3078, 11))"
      ]
     },
     "execution_count": 83,
     "metadata": {},
     "output_type": "execute_result"
    }
   ],
   "source": [
    "n_train = int(df.customer_id.nunique() * 0.8)\n",
    "train_ids = unique_ids.sample(n_train)\n",
    "train = df.query(f'customer_id in {train_ids.to_list()}')\n",
    "display(train.head())\n",
    "\n",
    "valid_test = df.query(f'customer_id not in {train_ids.to_list()}')\n",
    "n_valid = int(valid_test.customer_id.nunique() * 0.5)\n",
    "valid_ids = valid_test.customer_id.sample(n_valid)\n",
    "valid = valid_test.query(f'customer_id in {valid_ids.to_list()}')\n",
    "test = valid_test.query(f'customer_id not in {valid_ids.to_list()}')\n",
    "\n",
    "train.shape, valid.shape, test.shape"
   ]
  },
  {
   "cell_type": "code",
   "execution_count": 65,
   "metadata": {
    "tags": []
   },
   "outputs": [
    {
     "data": {
      "text/plain": [
       "cancellation_reason\n",
       "Non-Payment                                                                 4882\n",
       "Insured is no longer in business                                            2001\n",
       "I had a short-term need for insurance that has ended                        1470\n",
       "Other reason (describe in notes)                                             389\n",
       "I need coverage you can't provide                                            352\n",
       "Insured found better coverage elsewhere at same price                        346\n",
       "I don't see the value of having insurance anymore                            310\n",
       "Waiver of subrogation                                                        298\n",
       "Insured is covered by employer                                               174\n",
       "Change operations/COB                                                        122\n",
       "Unsigned terms and conditions                                                 99\n",
       "Change business structure to/from Individual                                  96\n",
       "Carrier post-purchase decline                                                 50\n",
       "Insured needs coverage or change we can't support (describe in notes)         49\n",
       "Add/Remove employees                                                          38\n",
       "No longer needed                                                              35\n",
       "Insured found better price elsewhere                                          23\n",
       "Change named insured                                                          22\n",
       "No insurance                                                                  21\n",
       "Insured can no longer afford the policy                                       13\n",
       "Change future effective date to be sooner                                     13\n",
       "Carrier cancellation                                                          12\n",
       "Refunded - duplicate                                                          11\n",
       "Insured performs work that the policy does not cover (describe in notes)      10\n",
       "Change loss costs                                                             10\n",
       "Change residential/commercial percentage from 0 to non-zero                    8\n",
       "Insured does seasonal or temporary work                                        8\n",
       "Refunded - cancel rewrite                                                      7\n",
       "Coverage Needs Changed                                                         6\n",
       "No longer in business                                                          3\n",
       "Covered by employer                                                            2\n",
       "Better Price                                                                   2\n",
       "Better Coverage                                                                2\n",
       "Name: count, dtype: int64"
      ]
     },
     "execution_count": 65,
     "metadata": {},
     "output_type": "execute_result"
    }
   ],
   "source": [
    "df.cancellation_reason.value_counts()"
   ]
  },
  {
   "cell_type": "code",
   "execution_count": 63,
   "metadata": {
    "tags": []
   },
   "outputs": [],
   "source": [
    "feat_cols = ['nchan','ngeo', 'profession_id', 'years_of_experience']\n",
    "X_train = train[feat_cols]\n",
    "y_train = train.churn\n",
    "\n",
    "X_valid = valid[feat_cols]\n",
    "y_valid = valid.churn\n",
    "\n",
    "X_test = test[feat_cols]\n",
    "y_test = test.churn"
   ]
  },
  {
   "cell_type": "code",
   "execution_count": null,
   "metadata": {},
   "outputs": [],
   "source": []
  },
  {
   "cell_type": "code",
   "execution_count": 64,
   "metadata": {
    "tags": []
   },
   "outputs": [
    {
     "data": {
      "text/plain": [
       "0.6834743005855562"
      ]
     },
     "execution_count": 64,
     "metadata": {},
     "output_type": "execute_result"
    }
   ],
   "source": [
    "from sklearn.ensemble import RandomForestClassifier\n",
    "\n",
    "rf = RandomForestClassifier(random_state=0, n_estimators=100)\n",
    "rf.fit(X_train, y_train)\n",
    "rf.score(X_test,y_test)"
   ]
  },
  {
   "cell_type": "code",
   "execution_count": 70,
   "metadata": {
    "tags": []
   },
   "outputs": [],
   "source": [
    "from sklearn.metrics import precision_recall_curve\n",
    "\n",
    "\n",
    "precision, recall, thresholds = precision_recall_curve(y_valid, rf.predict_proba(X_valid)[:,1])"
   ]
  },
  {
   "cell_type": "code",
   "execution_count": 74,
   "metadata": {
    "tags": []
   },
   "outputs": [
    {
     "ename": "ValueError",
     "evalue": "All arrays must be of the same length",
     "output_type": "error",
     "traceback": [
      "\u001b[0;31m---------------------------------------------------------------------------\u001b[0m",
      "\u001b[0;31mValueError\u001b[0m                                Traceback (most recent call last)",
      "Cell \u001b[0;32mIn[74], line 1\u001b[0m\n\u001b[0;32m----> 1\u001b[0m results \u001b[38;5;241m=\u001b[39m \u001b[43mpd\u001b[49m\u001b[38;5;241;43m.\u001b[39;49m\u001b[43mDataFrame\u001b[49m\u001b[43m(\u001b[49m\u001b[43m{\u001b[49m\u001b[38;5;124;43m'\u001b[39;49m\u001b[38;5;124;43mprecision\u001b[39;49m\u001b[38;5;124;43m'\u001b[39;49m\u001b[43m:\u001b[49m\u001b[43mprecision\u001b[49m\u001b[43m,\u001b[49m\u001b[43m \u001b[49m\u001b[38;5;124;43m'\u001b[39;49m\u001b[38;5;124;43mrecall\u001b[39;49m\u001b[38;5;124;43m'\u001b[39;49m\u001b[43m:\u001b[49m\u001b[43mrecall\u001b[49m\u001b[43m,\u001b[49m\u001b[43m \u001b[49m\u001b[38;5;124;43m'\u001b[39;49m\u001b[38;5;124;43mthres\u001b[39;49m\u001b[38;5;124;43m'\u001b[39;49m\u001b[43m:\u001b[49m\u001b[43mthresholds\u001b[49m\u001b[43m}\u001b[49m\u001b[43m)\u001b[49m\n\u001b[1;32m      2\u001b[0m results\n",
      "File \u001b[0;32m~/.local/lib/python3.10/site-packages/pandas/core/frame.py:709\u001b[0m, in \u001b[0;36mDataFrame.__init__\u001b[0;34m(self, data, index, columns, dtype, copy)\u001b[0m\n\u001b[1;32m    703\u001b[0m     mgr \u001b[38;5;241m=\u001b[39m \u001b[38;5;28mself\u001b[39m\u001b[38;5;241m.\u001b[39m_init_mgr(\n\u001b[1;32m    704\u001b[0m         data, axes\u001b[38;5;241m=\u001b[39m{\u001b[38;5;124m\"\u001b[39m\u001b[38;5;124mindex\u001b[39m\u001b[38;5;124m\"\u001b[39m: index, \u001b[38;5;124m\"\u001b[39m\u001b[38;5;124mcolumns\u001b[39m\u001b[38;5;124m\"\u001b[39m: columns}, dtype\u001b[38;5;241m=\u001b[39mdtype, copy\u001b[38;5;241m=\u001b[39mcopy\n\u001b[1;32m    705\u001b[0m     )\n\u001b[1;32m    707\u001b[0m \u001b[38;5;28;01melif\u001b[39;00m \u001b[38;5;28misinstance\u001b[39m(data, \u001b[38;5;28mdict\u001b[39m):\n\u001b[1;32m    708\u001b[0m     \u001b[38;5;66;03m# GH#38939 de facto copy defaults to False only in non-dict cases\u001b[39;00m\n\u001b[0;32m--> 709\u001b[0m     mgr \u001b[38;5;241m=\u001b[39m \u001b[43mdict_to_mgr\u001b[49m\u001b[43m(\u001b[49m\u001b[43mdata\u001b[49m\u001b[43m,\u001b[49m\u001b[43m \u001b[49m\u001b[43mindex\u001b[49m\u001b[43m,\u001b[49m\u001b[43m \u001b[49m\u001b[43mcolumns\u001b[49m\u001b[43m,\u001b[49m\u001b[43m \u001b[49m\u001b[43mdtype\u001b[49m\u001b[38;5;241;43m=\u001b[39;49m\u001b[43mdtype\u001b[49m\u001b[43m,\u001b[49m\u001b[43m \u001b[49m\u001b[43mcopy\u001b[49m\u001b[38;5;241;43m=\u001b[39;49m\u001b[43mcopy\u001b[49m\u001b[43m,\u001b[49m\u001b[43m \u001b[49m\u001b[43mtyp\u001b[49m\u001b[38;5;241;43m=\u001b[39;49m\u001b[43mmanager\u001b[49m\u001b[43m)\u001b[49m\n\u001b[1;32m    710\u001b[0m \u001b[38;5;28;01melif\u001b[39;00m \u001b[38;5;28misinstance\u001b[39m(data, ma\u001b[38;5;241m.\u001b[39mMaskedArray):\n\u001b[1;32m    711\u001b[0m     \u001b[38;5;28;01mfrom\u001b[39;00m \u001b[38;5;21;01mnumpy\u001b[39;00m\u001b[38;5;21;01m.\u001b[39;00m\u001b[38;5;21;01mma\u001b[39;00m \u001b[38;5;28;01mimport\u001b[39;00m mrecords\n",
      "File \u001b[0;32m~/.local/lib/python3.10/site-packages/pandas/core/internals/construction.py:481\u001b[0m, in \u001b[0;36mdict_to_mgr\u001b[0;34m(data, index, columns, dtype, typ, copy)\u001b[0m\n\u001b[1;32m    477\u001b[0m     \u001b[38;5;28;01melse\u001b[39;00m:\n\u001b[1;32m    478\u001b[0m         \u001b[38;5;66;03m# dtype check to exclude e.g. range objects, scalars\u001b[39;00m\n\u001b[1;32m    479\u001b[0m         arrays \u001b[38;5;241m=\u001b[39m [x\u001b[38;5;241m.\u001b[39mcopy() \u001b[38;5;28;01mif\u001b[39;00m \u001b[38;5;28mhasattr\u001b[39m(x, \u001b[38;5;124m\"\u001b[39m\u001b[38;5;124mdtype\u001b[39m\u001b[38;5;124m\"\u001b[39m) \u001b[38;5;28;01melse\u001b[39;00m x \u001b[38;5;28;01mfor\u001b[39;00m x \u001b[38;5;129;01min\u001b[39;00m arrays]\n\u001b[0;32m--> 481\u001b[0m \u001b[38;5;28;01mreturn\u001b[39;00m \u001b[43marrays_to_mgr\u001b[49m\u001b[43m(\u001b[49m\u001b[43marrays\u001b[49m\u001b[43m,\u001b[49m\u001b[43m \u001b[49m\u001b[43mcolumns\u001b[49m\u001b[43m,\u001b[49m\u001b[43m \u001b[49m\u001b[43mindex\u001b[49m\u001b[43m,\u001b[49m\u001b[43m \u001b[49m\u001b[43mdtype\u001b[49m\u001b[38;5;241;43m=\u001b[39;49m\u001b[43mdtype\u001b[49m\u001b[43m,\u001b[49m\u001b[43m \u001b[49m\u001b[43mtyp\u001b[49m\u001b[38;5;241;43m=\u001b[39;49m\u001b[43mtyp\u001b[49m\u001b[43m,\u001b[49m\u001b[43m \u001b[49m\u001b[43mconsolidate\u001b[49m\u001b[38;5;241;43m=\u001b[39;49m\u001b[43mcopy\u001b[49m\u001b[43m)\u001b[49m\n",
      "File \u001b[0;32m~/.local/lib/python3.10/site-packages/pandas/core/internals/construction.py:115\u001b[0m, in \u001b[0;36marrays_to_mgr\u001b[0;34m(arrays, columns, index, dtype, verify_integrity, typ, consolidate)\u001b[0m\n\u001b[1;32m    112\u001b[0m \u001b[38;5;28;01mif\u001b[39;00m verify_integrity:\n\u001b[1;32m    113\u001b[0m     \u001b[38;5;66;03m# figure out the index, if necessary\u001b[39;00m\n\u001b[1;32m    114\u001b[0m     \u001b[38;5;28;01mif\u001b[39;00m index \u001b[38;5;129;01mis\u001b[39;00m \u001b[38;5;28;01mNone\u001b[39;00m:\n\u001b[0;32m--> 115\u001b[0m         index \u001b[38;5;241m=\u001b[39m \u001b[43m_extract_index\u001b[49m\u001b[43m(\u001b[49m\u001b[43marrays\u001b[49m\u001b[43m)\u001b[49m\n\u001b[1;32m    116\u001b[0m     \u001b[38;5;28;01melse\u001b[39;00m:\n\u001b[1;32m    117\u001b[0m         index \u001b[38;5;241m=\u001b[39m ensure_index(index)\n",
      "File \u001b[0;32m~/.local/lib/python3.10/site-packages/pandas/core/internals/construction.py:655\u001b[0m, in \u001b[0;36m_extract_index\u001b[0;34m(data)\u001b[0m\n\u001b[1;32m    653\u001b[0m lengths \u001b[38;5;241m=\u001b[39m \u001b[38;5;28mlist\u001b[39m(\u001b[38;5;28mset\u001b[39m(raw_lengths))\n\u001b[1;32m    654\u001b[0m \u001b[38;5;28;01mif\u001b[39;00m \u001b[38;5;28mlen\u001b[39m(lengths) \u001b[38;5;241m>\u001b[39m \u001b[38;5;241m1\u001b[39m:\n\u001b[0;32m--> 655\u001b[0m     \u001b[38;5;28;01mraise\u001b[39;00m \u001b[38;5;167;01mValueError\u001b[39;00m(\u001b[38;5;124m\"\u001b[39m\u001b[38;5;124mAll arrays must be of the same length\u001b[39m\u001b[38;5;124m\"\u001b[39m)\n\u001b[1;32m    657\u001b[0m \u001b[38;5;28;01mif\u001b[39;00m have_dicts:\n\u001b[1;32m    658\u001b[0m     \u001b[38;5;28;01mraise\u001b[39;00m \u001b[38;5;167;01mValueError\u001b[39;00m(\n\u001b[1;32m    659\u001b[0m         \u001b[38;5;124m\"\u001b[39m\u001b[38;5;124mMixing dicts with non-Series may lead to ambiguous ordering.\u001b[39m\u001b[38;5;124m\"\u001b[39m\n\u001b[1;32m    660\u001b[0m     )\n",
      "\u001b[0;31mValueError\u001b[0m: All arrays must be of the same length"
     ]
    }
   ],
   "source": [
    "results = pd.DataFrame({'precision':precision, 'recall':recall, 'thres':thresholds})\n",
    "results"
   ]
  },
  {
   "cell_type": "code",
   "execution_count": 76,
   "metadata": {
    "tags": []
   },
   "outputs": [
    {
     "data": {
      "text/plain": [
       "(1735,)"
      ]
     },
     "execution_count": 76,
     "metadata": {},
     "output_type": "execute_result"
    }
   ],
   "source": [
    "precision.shape"
   ]
  },
  {
   "cell_type": "code",
   "execution_count": 81,
   "metadata": {
    "tags": []
   },
   "outputs": [
    {
     "data": {
      "text/plain": [
       "array([1.        , 0.98239824, 0.98239824, ..., 0.00770077, 0.00550055,\n",
       "       0.        ])"
      ]
     },
     "execution_count": 81,
     "metadata": {},
     "output_type": "execute_result"
    }
   ],
   "source": [
    "recall"
   ]
  },
  {
   "cell_type": "code",
   "execution_count": 79,
   "metadata": {
    "tags": []
   },
   "outputs": [
    {
     "data": {
      "text/plain": [
       "(1734,)"
      ]
     },
     "execution_count": 79,
     "metadata": {},
     "output_type": "execute_result"
    }
   ],
   "source": [
    "thresholds.shape"
   ]
  },
  {
   "cell_type": "code",
   "execution_count": 80,
   "metadata": {
    "tags": []
   },
   "outputs": [
    {
     "data": {
      "text/plain": [
       "array([0.00000000e+00, 6.89655172e-04, 7.31707317e-04, ...,\n",
       "       9.93500000e-01, 9.97000000e-01, 1.00000000e+00])"
      ]
     },
     "execution_count": 80,
     "metadata": {},
     "output_type": "execute_result"
    }
   ],
   "source": [
    "thresholds"
   ]
  },
  {
   "cell_type": "code",
   "execution_count": 39,
   "metadata": {
    "tags": []
   },
   "outputs": [
    {
     "data": {
      "text/plain": [
       "profession_id\n",
       "100001    6680\n",
       "5006      5789\n",
       "5005      3385\n",
       "5010      2604\n",
       "5003      1955\n",
       "5013      1102\n",
       "100003    1052\n",
       "100002    1049\n",
       "100042     860\n",
       "5007       785\n",
       "5008       636\n",
       "100019     508\n",
       "5012       492\n",
       "5009       448\n",
       "5011       423\n",
       "100005     249\n",
       "100043     241\n",
       "5014       232\n",
       "100008     202\n",
       "100004     184\n",
       "100006     171\n",
       "100041     169\n",
       "100040     148\n",
       "100045     124\n",
       "100009     123\n",
       "111653      98\n",
       "111642      66\n",
       "111643      57\n",
       "111648      35\n",
       "111654      29\n",
       "111644      21\n",
       "111646      19\n",
       "111649      13\n",
       "111641      12\n",
       "111652       9\n",
       "111645       7\n",
       "100007       6\n",
       "110753       5\n",
       "110610       5\n",
       "110756       4\n",
       "111651       2\n",
       "111656       1\n",
       "Name: count, dtype: int64"
      ]
     },
     "execution_count": 39,
     "metadata": {},
     "output_type": "execute_result"
    }
   ],
   "source": [
    "df.profession_id.value_counts()"
   ]
  },
  {
   "cell_type": "code",
   "execution_count": 28,
   "metadata": {
    "tags": []
   },
   "outputs": [
    {
     "data": {
      "text/plain": [
       "channel\n",
       "sem              16853\n",
       "agents            4434\n",
       "organic           3173\n",
       "social            1921\n",
       "channel sales     1277\n",
       "direct             792\n",
       "display            512\n",
       "support            392\n",
       "video              391\n",
       "email              153\n",
       "unknown             31\n",
       "native               5\n",
       "Name: count, dtype: int64"
      ]
     },
     "execution_count": 28,
     "metadata": {},
     "output_type": "execute_result"
    }
   ],
   "source": [
    "df.channel.value_counts()"
   ]
  },
  {
   "cell_type": "code",
   "execution_count": 37,
   "metadata": {
    "tags": []
   },
   "outputs": [
    {
     "data": {
      "text/plain": [
       "(0.0, 75.0)"
      ]
     },
     "execution_count": 37,
     "metadata": {},
     "output_type": "execute_result"
    },
    {
     "data": {
      "image/png": "[encoded data removed]",
      "text/plain": [
       "<Figure size 640x480 with 1 Axes>"
      ]
     },
     "metadata": {},
     "output_type": "display_data"
    }
   ],
   "source": [
    "df.years_of_experience.hist(bins=100)\n",
    "plt.xlim(0,75)"
   ]
  },
  {
   "cell_type": "code",
   "execution_count": 33,
   "metadata": {
    "tags": []
   },
   "outputs": [
    {
     "data": {
      "text/html": [
       "<div>\n",
       "<style scoped>\n",
       "    .dataframe tbody tr th:only-of-type {\n",
       "        vertical-align: middle;\n",
       "    }\n",
       "\n",
       "    .dataframe tbody tr th {\n",
       "        vertical-align: top;\n",
       "    }\n",
       "\n",
       "    .dataframe thead th {\n",
       "        text-align: right;\n",
       "    }\n",
       "</style>\n",
       "<table border=\"1\" class=\"dataframe\">\n",
       "  <thead>\n",
       "    <tr style=\"text-align: right;\">\n",
       "      <th></th>\n",
       "      <th>start_date</th>\n",
       "      <th>end_date</th>\n",
       "      <th>years_of_experience</th>\n",
       "      <th>profession_id</th>\n",
       "      <th>churn</th>\n",
       "    </tr>\n",
       "  </thead>\n",
       "  <tbody>\n",
       "    <tr>\n",
       "      <th>count</th>\n",
       "      <td>30000</td>\n",
       "      <td>30000</td>\n",
       "      <td>30000.000000</td>\n",
       "      <td>30000.000000</td>\n",
       "      <td>30000.000000</td>\n",
       "    </tr>\n",
       "    <tr>\n",
       "      <th>mean</th>\n",
       "      <td>2019-07-29 17:35:25.440000</td>\n",
       "      <td>2020-05-04 10:28:24.959999744</td>\n",
       "      <td>7.906867</td>\n",
       "      <td>43627.378333</td>\n",
       "      <td>0.286033</td>\n",
       "    </tr>\n",
       "    <tr>\n",
       "      <th>min</th>\n",
       "      <td>2018-01-17 00:00:00</td>\n",
       "      <td>2018-02-26 00:00:00</td>\n",
       "      <td>0.000000</td>\n",
       "      <td>5003.000000</td>\n",
       "      <td>0.000000</td>\n",
       "    </tr>\n",
       "    <tr>\n",
       "      <th>25%</th>\n",
       "      <td>2019-01-19 00:00:00</td>\n",
       "      <td>2019-09-28 00:00:00</td>\n",
       "      <td>5.000000</td>\n",
       "      <td>5006.000000</td>\n",
       "      <td>0.000000</td>\n",
       "    </tr>\n",
       "    <tr>\n",
       "      <th>50%</th>\n",
       "      <td>2019-08-22 00:00:00</td>\n",
       "      <td>2020-05-06 00:00:00</td>\n",
       "      <td>5.000000</td>\n",
       "      <td>5010.000000</td>\n",
       "      <td>0.000000</td>\n",
       "    </tr>\n",
       "    <tr>\n",
       "      <th>75%</th>\n",
       "      <td>2020-02-14 00:00:00</td>\n",
       "      <td>2021-01-07 00:00:00</td>\n",
       "      <td>7.000000</td>\n",
       "      <td>100001.000000</td>\n",
       "      <td>1.000000</td>\n",
       "    </tr>\n",
       "    <tr>\n",
       "      <th>max</th>\n",
       "      <td>2020-10-02 00:00:00</td>\n",
       "      <td>2021-10-02 00:00:00</td>\n",
       "      <td>171.000000</td>\n",
       "      <td>111656.000000</td>\n",
       "      <td>1.000000</td>\n",
       "    </tr>\n",
       "    <tr>\n",
       "      <th>std</th>\n",
       "      <td>NaN</td>\n",
       "      <td>NaN</td>\n",
       "      <td>8.038504</td>\n",
       "      <td>46832.667790</td>\n",
       "      <td>0.451913</td>\n",
       "    </tr>\n",
       "  </tbody>\n",
       "</table>\n",
       "</div>"
      ],
      "text/plain": [
       "                       start_date                       end_date   \n",
       "count                       30000                          30000  \\\n",
       "mean   2019-07-29 17:35:25.440000  2020-05-04 10:28:24.959999744   \n",
       "min           2018-01-17 00:00:00            2018-02-26 00:00:00   \n",
       "25%           2019-01-19 00:00:00            2019-09-28 00:00:00   \n",
       "50%           2019-08-22 00:00:00            2020-05-06 00:00:00   \n",
       "75%           2020-02-14 00:00:00            2021-01-07 00:00:00   \n",
       "max           2020-10-02 00:00:00            2021-10-02 00:00:00   \n",
       "std                           NaN                            NaN   \n",
       "\n",
       "       years_of_experience  profession_id         churn  \n",
       "count         30000.000000   30000.000000  30000.000000  \n",
       "mean              7.906867   43627.378333      0.286033  \n",
       "min               0.000000    5003.000000      0.000000  \n",
       "25%               5.000000    5006.000000      0.000000  \n",
       "50%               5.000000    5010.000000      0.000000  \n",
       "75%               7.000000  100001.000000      1.000000  \n",
       "max             171.000000  111656.000000      1.000000  \n",
       "std               8.038504   46832.667790      0.451913  "
      ]
     },
     "execution_count": 33,
     "metadata": {},
     "output_type": "execute_result"
    }
   ],
   "source": [
    "df.describe()"
   ]
  },
  {
   "cell_type": "code",
   "execution_count": 34,
   "metadata": {
    "tags": []
   },
   "outputs": [
    {
     "data": {
      "text/plain": [
       "26363    171.0\n",
       "4971      75.0\n",
       "29487     65.0\n",
       "13863     55.0\n",
       "23860     55.0\n",
       "18328     54.0\n",
       "14021     52.0\n",
       "531       50.0\n",
       "668       50.0\n",
       "923       50.0\n",
       "Name: years_of_experience, dtype: float64"
      ]
     },
     "execution_count": 34,
     "metadata": {},
     "output_type": "execute_result"
    }
   ],
   "source": [
    "df.years_of_experience.nlargest(10)"
   ]
  },
  {
   "cell_type": "code",
   "execution_count": 41,
   "metadata": {
    "tags": []
   },
   "outputs": [
    {
     "data": {
      "text/plain": [
       "churn\n",
       "0    0.713967\n",
       "1    0.286033\n",
       "Name: count, dtype: float64"
      ]
     },
     "execution_count": 41,
     "metadata": {},
     "output_type": "execute_result"
    }
   ],
   "source": [
    "df.churn.value_counts() / df.shape[0]"
   ]
  },
  {
   "cell_type": "code",
   "execution_count": null,
   "metadata": {},
   "outputs": [],
   "source": []
  }
 ],
 "metadata": {
  "kernelspec": {
   "display_name": "Python 3 (ipykernel)",
   "language": "python",
   "name": "python3"
  },
  "language_info": {
   "codemirror_mode": {
    "name": "ipython",
    "version": 3
   },
   "file_extension": ".py",
   "mimetype": "text/x-python",
   "name": "python",
   "nbconvert_exporter": "python",
   "pygments_lexer": "ipython3",
   "version": "3.10.9"
  }
 },
 "nbformat": 4,
 "nbformat_minor": 4
}
