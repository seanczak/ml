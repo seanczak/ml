{
 "cells": [
  {
   "cell_type": "code",
   "execution_count": 1,
   "metadata": {},
   "outputs": [],
   "source": [
    "# default_exp visuals"
   ]
  },
  {
   "cell_type": "code",
   "execution_count": null,
   "metadata": {},
   "outputs": [],
   "source": [
    "%load_ext autoreload\n",
    "%autoreload 2\n",
    "%matplotlib inline"
   ]
  },
  {
   "cell_type": "code",
   "execution_count": 5,
   "metadata": {},
   "outputs": [],
   "source": [
    "# export\n",
    "import matplotlib.pyplot as plt\n",
    "import matplotlib as mpl\n",
    "import seaborn as sns\n",
    "plt.style.use('ggplot')\n",
    "plt.style.use(['dark_background'])\n",
    "\n",
    "import numpy as np\n",
    "import pandas as pd"
   ]
  },
  {
   "cell_type": "code",
   "execution_count": 23,
   "metadata": {},
   "outputs": [],
   "source": [
    "#export\n",
    "def create_cdf(series):\n",
    "    # using the assumption that a cont variable probably doesn't have any repeats (or at least not too many, lets just rank them and say\n",
    "    # that if there are any duplicates it will average their rank)\n",
    "    cdf_series = series.rank(method = 'average', pct = True)\n",
    "    cdf_series.index = series\n",
    "    return cdf_series\n",
    "\n",
    "\n",
    "def plot_hist_and_cdf(df, col, bins=100, figsize= (15,3), axes = None):\n",
    "    # in case you wanted to pass two ax objects instead of creating them\n",
    "    if axes is None: fig, (ax1, ax2) = plt.subplots(1,2, figsize = figsize)\n",
    "    # hist (pdf viz approx)\n",
    "    df[col].hist(bins = bins, ax = ax1)\n",
    "    # create cdf series, sort it, and plot it\n",
    "    cdf_series = create_cdf(df[col])\n",
    "    cdf_series.sort_values().plot(ax = ax2)\n",
    "    # return all that was created\n",
    "    return fig, (ax1, ax2), cdf_series"
   ]
  },
  {
   "cell_type": "code",
   "execution_count": 24,
   "metadata": {},
   "outputs": [
    {
     "data": {
      "text/html": [
       "<div>\n",
       "<style scoped>\n",
       "    .dataframe tbody tr th:only-of-type {\n",
       "        vertical-align: middle;\n",
       "    }\n",
       "\n",
       "    .dataframe tbody tr th {\n",
       "        vertical-align: top;\n",
       "    }\n",
       "\n",
       "    .dataframe thead th {\n",
       "        text-align: right;\n",
       "    }\n",
       "</style>\n",
       "<table border=\"1\" class=\"dataframe\">\n",
       "  <thead>\n",
       "    <tr style=\"text-align: right;\">\n",
       "      <th></th>\n",
       "      <th>col0</th>\n",
       "      <th>col1</th>\n",
       "      <th>col2</th>\n",
       "      <th>col3</th>\n",
       "      <th>label</th>\n",
       "    </tr>\n",
       "  </thead>\n",
       "  <tbody>\n",
       "    <tr>\n",
       "      <th>0</th>\n",
       "      <td>-1.399484</td>\n",
       "      <td>0.820140</td>\n",
       "      <td>-1.700726</td>\n",
       "      <td>-0.082566</td>\n",
       "      <td>0</td>\n",
       "    </tr>\n",
       "    <tr>\n",
       "      <th>1</th>\n",
       "      <td>0.398978</td>\n",
       "      <td>1.138259</td>\n",
       "      <td>0.327214</td>\n",
       "      <td>0.929395</td>\n",
       "      <td>1</td>\n",
       "    </tr>\n",
       "    <tr>\n",
       "      <th>2</th>\n",
       "      <td>-0.477207</td>\n",
       "      <td>0.182435</td>\n",
       "      <td>0.582282</td>\n",
       "      <td>0.607353</td>\n",
       "      <td>1</td>\n",
       "    </tr>\n",
       "    <tr>\n",
       "      <th>3</th>\n",
       "      <td>1.527134</td>\n",
       "      <td>0.871324</td>\n",
       "      <td>-1.952572</td>\n",
       "      <td>0.882938</td>\n",
       "      <td>1</td>\n",
       "    </tr>\n",
       "    <tr>\n",
       "      <th>4</th>\n",
       "      <td>0.199880</td>\n",
       "      <td>0.756995</td>\n",
       "      <td>1.326916</td>\n",
       "      <td>-1.590039</td>\n",
       "      <td>1</td>\n",
       "    </tr>\n",
       "  </tbody>\n",
       "</table>\n",
       "</div>"
      ],
      "text/plain": [
       "       col0      col1      col2      col3  label\n",
       "0 -1.399484  0.820140 -1.700726 -0.082566      0\n",
       "1  0.398978  1.138259  0.327214  0.929395      1\n",
       "2 -0.477207  0.182435  0.582282  0.607353      1\n",
       "3  1.527134  0.871324 -1.952572  0.882938      1\n",
       "4  0.199880  0.756995  1.326916 -1.590039      1"
      ]
     },
     "execution_count": 24,
     "metadata": {},
     "output_type": "execute_result"
    }
   ],
   "source": [
    "N = 1000\n",
    "n_feats = 4\n",
    "fake_data = np.random.normal(size=(N, n_feats))\n",
    "\n",
    "feat_cols = [f'col{i}' for i in range(n_feats)]\n",
    "df = pd.DataFrame(fake_data,columns=feat_cols)\n",
    "\n",
    "target_col = 'label'\n",
    "p = 0.4\n",
    "df[target_col] = np.random.choice(a=[0, 1], size=(N, 1), p=[p, 1-p])\n",
    "\n",
    "df.head()"
   ]
  },
  {
   "cell_type": "code",
   "execution_count": 25,
   "metadata": {},
   "outputs": [
    {
     "data": {
      "image/png": "[encoded data removed]",
      "text/plain": [
       "<Figure size 1080x216 with 2 Axes>"
      ]
     },
     "metadata": {},
     "output_type": "display_data"
    }
   ],
   "source": [
    "fig, (ax1, ax2), cdf_series = plot_hist_and_cdf(df, 'col1')"
   ]
  },
  {
   "cell_type": "code",
   "execution_count": null,
   "metadata": {},
   "outputs": [],
   "source": []
  }
 ],
 "metadata": {
  "kernelspec": {
   "display_name": "Python 3",
   "language": "python",
   "name": "python3"
  },
  "language_info": {
   "codemirror_mode": {
    "name": "ipython",
    "version": 3
   },
   "file_extension": ".py",
   "mimetype": "text/x-python",
   "name": "python",
   "nbconvert_exporter": "python",
   "pygments_lexer": "ipython3",
   "version": "3.7.7"
  },
  "toc": {
   "base_numbering": 1,
   "nav_menu": {},
   "number_sections": true,
   "sideBar": true,
   "skip_h1_title": false,
   "title_cell": "Table of Contents",
   "title_sidebar": "Contents",
   "toc_cell": false,
   "toc_position": {},
   "toc_section_display": true,
   "toc_window_display": false
  }
 },
 "nbformat": 4,
 "nbformat_minor": 2
}
