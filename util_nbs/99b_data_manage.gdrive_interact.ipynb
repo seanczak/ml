{
 "cells": [
  {
   "cell_type": "code",
   "execution_count": 18,
   "metadata": {},
   "outputs": [],
   "source": [
    "# default_exp data_manage.gdrive_interact"
   ]
  },
  {
   "cell_type": "code",
   "execution_count": 19,
   "metadata": {},
   "outputs": [
    {
     "name": "stdout",
     "output_type": "stream",
     "text": [
      "The autoreload extension is already loaded. To reload it, use:\n",
      "  %reload_ext autoreload\n"
     ]
    }
   ],
   "source": [
    "%load_ext autoreload\n",
    "%autoreload 2\n",
    "%matplotlib inline"
   ]
  },
  {
   "cell_type": "code",
   "execution_count": 20,
   "metadata": {},
   "outputs": [],
   "source": [
    "# export\n",
    "from pydrive.drive import GoogleDrive\n",
    "from pydrive.auth import GoogleAuth\n",
    "import os\n",
    "\n",
    "from ml.local_repo_path import local_repo_path"
   ]
  },
  {
   "cell_type": "code",
   "execution_count": 21,
   "metadata": {},
   "outputs": [
    {
     "data": {
      "text/plain": [
       "'/home/sfronczak/seanczak/ml/'"
      ]
     },
     "execution_count": 21,
     "metadata": {},
     "output_type": "execute_result"
    }
   ],
   "source": [
    "local_repo_path"
   ]
  },
  {
   "cell_type": "markdown",
   "metadata": {},
   "source": [
    "# Repo Management\n",
    "\n",
    "While I don't want to track large data files with git (also some I'd like to keep private), I still want to make use of the cloud to store my files in the case that something happens to my local machine. Thus, here I outline the ability to shuttle files between my google drive and this repo (first build solution, we'll see if it lasts)."
   ]
  },
  {
   "cell_type": "markdown",
   "metadata": {},
   "source": [
    "# Accessing Google drive\n",
    "Using pydrive https://pythonhosted.org/PyDrive/quickstart.html, I came up with the following code."
   ]
  },
  {
   "cell_type": "markdown",
   "metadata": {},
   "source": [
    "# General utils and conventions\n",
    "Need to go to googles API Console (see link above) and download the `client_secrets.json` and put it in this directory (perhaps also in the ml module directory). I think this only needs to be done once"
   ]
  },
  {
   "cell_type": "markdown",
   "metadata": {},
   "source": [
    "## Prepping connection"
   ]
  },
  {
   "cell_type": "code",
   "execution_count": 82,
   "metadata": {},
   "outputs": [
    {
     "name": "stdout",
     "output_type": "stream",
     "text": [
      "Your browser has been opened to visit:\n",
      "\n",
      "    https://accounts.google.com/o/oauth2/auth?client_id=884310440114-oqhbrdkc3vikjmr3nvnrkb0ptr7lvp8r.apps.googleusercontent.com&redirect_uri=http%3A%2F%2Flocalhost%3A8080%2F&scope=https%3A%2F%2Fwww.googleapis.com%2Fauth%2Fdrive&access_type=offline&response_type=code\n",
      "\n",
      "Authentication successful.\n"
     ]
    }
   ],
   "source": [
    "#export\n",
    "gauth = GoogleAuth()\n",
    "# this needs to be added to the root of the repo\n",
    "cred_fpath = local_repo_path + 'client_secrets.json'\n",
    "# tell pydrive where to look for it\n",
    "gauth.DEFAULT_SETTINGS['client_config_file'] = cred_fpath\n",
    "# initiate the drive object and open the connection\n",
    "drive = GoogleDrive(gauth)\n",
    "gauth.LocalWebserverAuth() # Creates local webserver and auto handles authentication."
   ]
  },
  {
   "cell_type": "markdown",
   "metadata": {},
   "source": [
    "## Encoding google file types\n",
    "These are super long and not always intuitive so I'll store them in a dict that will make them more readable"
   ]
  },
  {
   "cell_type": "code",
   "execution_count": 23,
   "metadata": {},
   "outputs": [],
   "source": [
    "# export\n",
    "gtypes = {\n",
    "    'folder' : 'application/vnd.google-apps.folder'\n",
    "}"
   ]
  },
  {
   "cell_type": "code",
   "execution_count": 24,
   "metadata": {},
   "outputs": [
    {
     "data": {
      "text/plain": [
       "'application/vnd.google-apps.folder'"
      ]
     },
     "execution_count": 24,
     "metadata": {},
     "output_type": "execute_result"
    }
   ],
   "source": [
    "gtypes['folder']"
   ]
  },
  {
   "cell_type": "markdown",
   "metadata": {},
   "source": [
    "## Grabbing root id"
   ]
  },
  {
   "cell_type": "code",
   "execution_count": 83,
   "metadata": {},
   "outputs": [],
   "source": [
    "# export\n",
    "def get_root_remote_id(folderName = 'ml_repo_data', gtypes=gtypes):\n",
    "    # query google drive\n",
    "    folders = drive.ListFile(\n",
    "        {'q': f\"title='{folderName}' and mimeType='{gtypes['folder']}' and trashed=false\"}).GetList()\n",
    "    folder = folders[0] # the above returns a list\n",
    "    return folder['id']"
   ]
  },
  {
   "cell_type": "code",
   "execution_count": 84,
   "metadata": {},
   "outputs": [
    {
     "data": {
      "text/plain": [
       "'1zAxv'"
      ]
     },
     "execution_count": 84,
     "metadata": {},
     "output_type": "execute_result"
    }
   ],
   "source": [
    "root_id = get_root_remote_id()\n",
    "root_id[:5] # not going to print all 33 chars"
   ]
  },
  {
   "cell_type": "markdown",
   "metadata": {},
   "source": [
    "## Grabbing folder id\n",
    "Argument is for the id of that above it in the tree (the `parent` id)"
   ]
  },
  {
   "cell_type": "code",
   "execution_count": 27,
   "metadata": {},
   "outputs": [],
   "source": [
    "# export\n",
    "def get_folder_id(parent_id, foldername):\n",
    "    # grab the folder\n",
    "    ftype = gtypes['folder'] # unfortunately if I don't do this Jupyter freaks out with indentations/coloration\n",
    "    folders = drive.ListFile(\n",
    "        {'q': f\"title='{foldername}' and mimeType='{ftype}' and '{parent_id}' in parents and trashed=false\"}).GetList()\n",
    "    folder = folders[0] # the above returns a list\n",
    "    return folder['id']"
   ]
  },
  {
   "cell_type": "code",
   "execution_count": 28,
   "metadata": {},
   "outputs": [
    {
     "data": {
      "text/plain": [
       "'1QbKZ'"
      ]
     },
     "execution_count": 28,
     "metadata": {},
     "output_type": "execute_result"
    }
   ],
   "source": [
    "DLM_id = get_folder_id(parent_id = root_id, foldername = 'DL_music')\n",
    "DLM_id[:5] # not going to print all 33 chars"
   ]
  },
  {
   "cell_type": "markdown",
   "metadata": {},
   "source": [
    "## Grabbing folder contents"
   ]
  },
  {
   "cell_type": "code",
   "execution_count": 29,
   "metadata": {},
   "outputs": [],
   "source": [
    "# export\n",
    "def grab_folder_contents(parent_id):\n",
    "    '''Return a list of all the items in a folder based on its parent id'''\n",
    "    file_list = drive.ListFile({'q': f\"'{parent_id}' in parents and trashed=false\"}).GetList()\n",
    "    return file_list"
   ]
  },
  {
   "cell_type": "code",
   "execution_count": 30,
   "metadata": {},
   "outputs": [
    {
     "data": {
      "text/plain": [
       "dict_keys(['kind', 'id', 'etag', 'selfLink', 'webContentLink', 'alternateLink', 'embedLink', 'iconLink', 'title', 'mimeType', 'labels', 'copyRequiresWriterPermission', 'createdDate', 'modifiedDate', 'modifiedByMeDate', 'lastViewedByMeDate', 'markedViewedByMeDate', 'version', 'parents', 'downloadUrl', 'userPermission', 'originalFilename', 'fileExtension', 'md5Checksum', 'fileSize', 'quotaBytesUsed', 'ownerNames', 'owners', 'lastModifyingUserName', 'lastModifyingUser', 'capabilities', 'editable', 'copyable', 'writersCanShare', 'shared', 'explicitlyTrashed', 'appDataContents', 'headRevisionId', 'spaces'])"
      ]
     },
     "execution_count": 30,
     "metadata": {},
     "output_type": "execute_result"
    }
   ],
   "source": [
    "file_list = grab_folder_contents(DLM_id) \n",
    "# it returns a list\n",
    "file = file_list[1]\n",
    "# each file is a dictionary of information\n",
    "file.keys()"
   ]
  },
  {
   "cell_type": "markdown",
   "metadata": {},
   "source": [
    "## check if file exists remote by name and parent"
   ]
  },
  {
   "cell_type": "code",
   "execution_count": 74,
   "metadata": {},
   "outputs": [],
   "source": [
    "# export\n",
    "def check_file_exists_remote(parent_id, fname):\n",
    "    file_list = grab_folder_contents(parent_id)\n",
    "    for file in file_list:\n",
    "        if file['title'] == fname : return True\n",
    "        continue\n",
    "    return False"
   ]
  },
  {
   "cell_type": "code",
   "execution_count": 75,
   "metadata": {},
   "outputs": [
    {
     "data": {
      "text/plain": [
       "True"
      ]
     },
     "execution_count": 75,
     "metadata": {},
     "output_type": "execute_result"
    }
   ],
   "source": [
    "parent_id = file['parents'][0]['id']\n",
    "fname = file['title']\n",
    "check_file_exists_remote(parent_id, fname)"
   ]
  },
  {
   "cell_type": "markdown",
   "metadata": {},
   "source": [
    "## Grabbing file id"
   ]
  },
  {
   "cell_type": "code",
   "execution_count": 69,
   "metadata": {},
   "outputs": [],
   "source": [
    "# export\n",
    "def get_file_id(parent_id, fname):\n",
    "    # grab the folder\n",
    "    ftype = gtypes['folder'] # unfortunately if I don't do this Jupyter freaks out with indentations/coloration\n",
    "    file_list = drive.ListFile(\n",
    "        {'q': f\"title='{fname}' and '{parent_id}' in parents and trashed=false\"}).GetList()\n",
    "    file = file_list[0] # the above returns a list\n",
    "    return file['id']"
   ]
  },
  {
   "cell_type": "code",
   "execution_count": 73,
   "metadata": {},
   "outputs": [
    {
     "data": {
      "text/plain": [
       "'1Qm_e'"
      ]
     },
     "execution_count": 73,
     "metadata": {},
     "output_type": "execute_result"
    }
   ],
   "source": [
    "file_id = get_file_id(parent_id, fname)\n",
    "file_id[:5]"
   ]
  },
  {
   "cell_type": "markdown",
   "metadata": {},
   "source": [
    "## downloading files\n",
    "Everything draws from the pydrives \"file\" object which can be initiated with the file's remote id. Downloading it from there is simple"
   ]
  },
  {
   "cell_type": "code",
   "execution_count": 53,
   "metadata": {},
   "outputs": [],
   "source": [
    "# export\n",
    "def download_file(file_id, local_dpath = None):\n",
    "    # Create GoogleDriveFile instance with file id of file1.\n",
    "    file = drive.CreateFile({'id': item['id']})\n",
    "    local_dpath = './' if local_dpath is None else local_repo_path + local_dpath\n",
    "    local_fpath = local_dpath + file['title']\n",
    "    file.GetContentFile(local_fpath)\n",
    "    return local_fpath"
   ]
  },
  {
   "cell_type": "code",
   "execution_count": 54,
   "metadata": {},
   "outputs": [
    {
     "data": {
      "text/plain": [
       "'/home/sfronczak/seanczak/ml/data/DeepLearn_Music/sd.mp3'"
      ]
     },
     "execution_count": 54,
     "metadata": {},
     "output_type": "execute_result"
    }
   ],
   "source": [
    "local_dpath = 'data/DeepLearn_Music/'\n",
    "file_id = item['id']\n",
    "\n",
    "local_fpath = download_file(file_id, local_dpath)\n",
    "local_fpath"
   ]
  },
  {
   "cell_type": "markdown",
   "metadata": {},
   "source": [
    "## uploading new file"
   ]
  },
  {
   "cell_type": "code",
   "execution_count": 85,
   "metadata": {},
   "outputs": [],
   "source": [
    "# export\n",
    "def upload_new_file(local_fpath, fname, parent_id):\n",
    "    file = drive.CreateFile({'parents': [{'id': f'{parent_id}'}]})\n",
    "    file['title'] = fname\n",
    "    file.SetContentFile(local_fpath)\n",
    "    file.Upload()\n",
    "    return"
   ]
  },
  {
   "cell_type": "code",
   "execution_count": 86,
   "metadata": {
    "scrolled": true
   },
   "outputs": [],
   "source": [
    "upload_new_file(local_fpath, item['title'], item['parents'][0]['id'])"
   ]
  },
  {
   "cell_type": "markdown",
   "metadata": {},
   "source": [
    "## updating existing file"
   ]
  },
  {
   "cell_type": "code",
   "execution_count": 65,
   "metadata": {},
   "outputs": [],
   "source": [
    "# export\n",
    "def update_existing_file(local_fpath, file_id):\n",
    "    file = drive.CreateFile({'id': item['id']})\n",
    "    file.SetContentFile(local_fpath)\n",
    "    file.Upload()\n",
    "    return"
   ]
  },
  {
   "cell_type": "code",
   "execution_count": 66,
   "metadata": {},
   "outputs": [],
   "source": [
    "update_existing_file(local_fpath, item['id'])"
   ]
  },
  {
   "cell_type": "markdown",
   "metadata": {},
   "source": [
    "## Sync a file to remote\n",
    "Regardless of it exists or not (it will check)"
   ]
  },
  {
   "cell_type": "code",
   "execution_count": 71,
   "metadata": {},
   "outputs": [],
   "source": [
    "# export\n",
    "def sync_file_to_remote(local_fpath, fname, parent_id):\n",
    "    '''will check if file exists remote first then will upload/update\n",
    "    accordingly'''\n",
    "    file_exists_remote = check_file_exists_remote(parent_id, fname)\n",
    "    # update if its already there\n",
    "    if file_exists_remote:\n",
    "        file_id = get_file_id(parent_id, fname)\n",
    "        update_existing_file(local_fpath, file_id)\n",
    "    # upload a new one else\n",
    "    else:\n",
    "        upload_new_file(local_fpath, fname, parent_id)\n",
    "    return"
   ]
  },
  {
   "cell_type": "code",
   "execution_count": 72,
   "metadata": {},
   "outputs": [],
   "source": [
    "sync_file_to_remote(local_fpath, item['title'], item['parents'][0]['id'])"
   ]
  }
 ],
 "metadata": {
  "kernelspec": {
   "display_name": "Python 3",
   "language": "python",
   "name": "python3"
  },
  "language_info": {
   "codemirror_mode": {
    "name": "ipython",
    "version": 3
   },
   "file_extension": ".py",
   "mimetype": "text/x-python",
   "name": "python",
   "nbconvert_exporter": "python",
   "pygments_lexer": "ipython3",
   "version": "3.7.7"
  },
  "toc": {
   "base_numbering": 1,
   "nav_menu": {},
   "number_sections": true,
   "sideBar": true,
   "skip_h1_title": false,
   "title_cell": "Table of Contents",
   "title_sidebar": "Contents",
   "toc_cell": false,
   "toc_position": {},
   "toc_section_display": true,
   "toc_window_display": false
  }
 },
 "nbformat": 4,
 "nbformat_minor": 2
}
