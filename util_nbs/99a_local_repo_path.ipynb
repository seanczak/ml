{
 "cells": [
  {
   "cell_type": "code",
   "execution_count": null,
   "metadata": {},
   "outputs": [],
   "source": [
    "# default_exp local_repo_path"
   ]
  },
  {
   "cell_type": "code",
   "execution_count": null,
   "metadata": {},
   "outputs": [],
   "source": [
    "#export\n",
    "import os"
   ]
  },
  {
   "cell_type": "markdown",
   "metadata": {},
   "source": [
    "# Accessing the repo root path\n",
    "> Admittedly, this is a hacked solution. \n",
    "\n",
    "Place a str object in a py file that is the absolute path to wherever this repo is located locally. This way I can use absolute paths for the rest of this module to place files where I would like them to go."
   ]
  },
  {
   "cell_type": "code",
   "execution_count": null,
   "metadata": {},
   "outputs": [
    {
     "name": "stdout",
     "output_type": "stream",
     "text": [
      "in a notebook environment\n"
     ]
    }
   ],
   "source": [
    "#export\n",
    "try:\n",
    "    # path of the current py file that the nb exports into (not the notebook)\n",
    "    file_path = os.path.dirname(os.path.realpath(__file__))\n",
    "    # abs path to collection repo in your computer\n",
    "    local_repo_path = file_path[:-2] # this could be cleaner, see below\n",
    "except:\n",
    "    print('in a notebook environment')"
   ]
  }
 ],
 "metadata": {
  "kernelspec": {
   "display_name": "Python 3",
   "language": "python",
   "name": "python3"
  }
 },
 "nbformat": 4,
 "nbformat_minor": 2
}
