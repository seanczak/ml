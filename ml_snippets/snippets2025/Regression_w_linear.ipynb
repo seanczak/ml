{
 "cells": [
  {
   "cell_type": "code",
   "execution_count": null,
   "id": "66a7bfcc-0b76-475d-b556-3c03d2e02a39",
   "metadata": {},
   "outputs": [],
   "source": [
    "# Separate feature types\n",
    "numeric_features = ['feature_num1', 'feature_num2']\n",
    "categorical_features = ['feature_cat1', 'feature_cat2', 'feature_cat3']\n",
    "\n",
    "# === Compute imputation values from training set ===\n",
    "\n",
    "# For numeric: use mean\n",
    "numeric_means = X_train[numeric_features].mean()\n",
    "\n",
    "# Apply numeric mean imputation\n",
    "X_train[numeric_features] = X_train[numeric_features].fillna(numeric_means)\n",
    "X_val[numeric_features] = X_val[numeric_features].fillna(numeric_means)\n",
    "X_test[numeric_features] = X_test[numeric_features].fillna(numeric_means)\n",
    "\n",
    "\n",
    "# For categorical: use most frequent value\n",
    "categorical_modes = X_train[categorical_features].mode().iloc[0]\n",
    "\n",
    "# Apply categorical mode imputation\n",
    "X_train[categorical_features] = X_train[categorical_features].fillna(categorical_modes)\n",
    "X_val[categorical_features] = X_val[categorical_features].fillna(categorical_modes)\n",
    "X_test[categorical_features] = X_test[categorical_features].fillna(categorical_modes)\n",
    "\n",
    "# verify no nulls\n",
    "display('train',X_train.isnull().sum())\n",
    "display('valid',X_val.isnull().sum())\n",
    "display('test',X_test.isnull().sum())"
   ]
  }
 ],
 "metadata": {
  "kernelspec": {
   "display_name": "Python 3 (ipykernel)",
   "language": "python",
   "name": "python3"
  },
  "language_info": {
   "codemirror_mode": {
    "name": "ipython",
    "version": 3
   },
   "file_extension": ".py",
   "mimetype": "text/x-python",
   "name": "python",
   "nbconvert_exporter": "python",
   "pygments_lexer": "ipython3",
   "version": "3.10.9"
  }
 },
 "nbformat": 4,
 "nbformat_minor": 5
}
