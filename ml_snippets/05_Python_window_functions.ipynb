{
 "cells": [
  {
   "cell_type": "code",
   "execution_count": 1,
   "metadata": {},
   "outputs": [],
   "source": [
    "import pandas as pd\n",
    "import numpy as np\n",
    "\n",
    "import matplotlib.pyplot as plt\n",
    "import matplotlib as mpl\n",
    "import seaborn as sns\n",
    "plt.style.use('ggplot')\n",
    "plt.style.use(['dark_background'])"
   ]
  },
  {
   "cell_type": "markdown",
   "metadata": {},
   "source": [
    "https://towardsdatascience.com/8-popular-sql-window-functions-replicated-in-python-e17e6b34d5d7"
   ]
  },
  {
   "cell_type": "markdown",
   "metadata": {},
   "source": [
    "# RANK, DENSE_RANK and ROW_NUMBER\n",
    "https://codingsight.com/similarities-and-differences-among-rank-dense_rank-and-row_number-functions/\n",
    "\n",
    "The RANK, DENSE_RANK and ROW_NUMBER functions are used to `retrieve an increasing integer value`. They start with a value based on the condition imposed by the ORDER BY clause. All of these functions `require the ORDER BY` clause to function properly. In case of partitioned data, the integer counter is `reset to 1 for each partition`.\n",
    "\n",
    "The DENSE_RANK function is similar to RANK function however the DENSE_RANK function does not skip any ranks if there is a tie between the ranks of the preceding records. \n",
    "- Eg. the first two values are the same and the third different, (1,1,2) is returned instead of (1,1,3) like in Rank\n",
    "\n",
    "Unlike the RANK and DENSE_RANK functions, the ROW_NUMBER function simply returns the row number of the sorted records starting with 1.\n",
    "\n",
    "> If no duplicated values in ORDER BY clause, they are equivalent"
   ]
  },
  {
   "cell_type": "markdown",
   "metadata": {},
   "source": [
    "## row number => rank(method='first')\n",
    "\n",
    "> Note: In pandas-- the partition is is the groupby field and the col_selected is the order by field\n",
    "\n",
    "The SQL Row Number() function, assigns a sequential integer to each row within the partition of a dataset. It is often used in practice to create an auxiliary column that ranks a field based on the specified partition and order. The column can then be used to more effectively filter or join the dataset.\n",
    "\n",
    "```row number() over(partition by customer_id order by order_date)```\n",
    "\n",
    "With pandas the same result can be achieved by applying the .rank(method = ‘first’) function to a GroupBy object filtered by Order Date to create the Row Num column:\n",
    "\n",
    "```\n",
    "orders['Row Num'] = orders.groupby(['Customer ID'])['Order Date'].rank(method='first') \n",
    "```\n",
    "\n",
    "To verify, let's have the df display it\n",
    "\n",
    "```\n",
    "orders.sort_values(by= ['Customer ID','Order Date'], inplace = True)\n",
    "orders = orders.reset_index(drop = True)\n",
    "orders.head(20)\n",
    "```\n",
    "\n",
    "> Note 1: if you wanted the opposite, just set ascending to be False in rank\n",
    "\n",
    "```orders.groupby([‘Customer ID’])[‘Order Date’].rank(method=’first’, ascending = False)```\n",
    "\n",
    "> Note 2: paritition by multiple columns just need to add the preferred fields to the GroupBy object \n",
    "\n",
    "```\n",
    "#SQL Syntax\n",
    "row number() over(partition by customer_id, order_month order by order_date)\n",
    "\n",
    "#Python Syntax\n",
    "orders.groupby([‘Customer ID’, 'Order Month'])[‘Order Date’].rank(method=’first')\n",
    "```"
   ]
  },
  {
   "cell_type": "markdown",
   "metadata": {},
   "source": [
    "## rank() → rank(method=’min’)\n",
    "\n",
    "> Note the main difference between this and row number is that rank makes duplicates where as row number does not"
   ]
  },
  {
   "cell_type": "markdown",
   "metadata": {},
   "source": [
    "## Dense_rank() → Rank(method=’dense’)"
   ]
  },
  {
   "cell_type": "markdown",
   "metadata": {},
   "source": [
    "##  first/last value() → rank(method =’first’, ascending = True/False) == 1\n",
    "\n",
    "The first value() and last value() window functions are used to retrieve the value of the first or last row, in an ordered partition of a dataset.\n",
    "\n",
    "```\n",
    "#The aapl dataset includes prices for one stock only, therefore the #partition is just applied on order_month\n",
    "first value(adj_close) over(partition by order_month order by date)\n",
    "last value(adj_close) over(partition by order_month order by date)\n",
    "```\n",
    "\n",
    "To make this work in pandas, he uses rank again (method='fist') but to make it so that they are one to one with num_rows he bfills and ffills (otherwise he just flips ascending around)\n",
    "\n",
    "```\n",
    "aapl['First Value'] = aapl['Adj Close'].loc[aapl.groupby('Month')['Date'].rank(method ='first') == 1]\n",
    "aapl['First Value'] = aapl['First Value'].bfill()\n",
    "\n",
    "aapl['Last Value'] = aapl['Adj Close'].loc[aapl.groupby('Month')['Date'].rank(method ='first', ascending = False) == 1]\n",
    "aapl['Last Value'] = aapl['Last Value'].ffill()\n",
    "```\n"
   ]
  },
  {
   "cell_type": "markdown",
   "metadata": {},
   "source": [
    "# Rolling sums and averages\n",
    "\n",
    "Note that we may want to do it by partition (he doesn, over the last n timesteps, order them by another column"
   ]
  },
  {
   "cell_type": "markdown",
   "metadata": {},
   "source": [
    "## Sum(…) over(partition by … order by .. rows unbounded preceding) → cumsum()\n",
    "\n",
    "The syntax below is not exactly the most efficient and intuitive: there is quite a lot of code to write and if we wish to sort by order_date, we must also include the rows… clause to compute a cumulative sum instead of a total sum in the chosen window.\n",
    "\n",
    "```\n",
    "sum(amount_paid) over(partition by customer_id, order_month order by order_date rows unbounded preceding)\n",
    "```\n",
    "\n",
    "Again, partition becomes groupby, col to be summed on is selected (I believe if we wanted it ordered by it would have to be sorted first)\n",
    "\n",
    "```\n",
    "orders[\"Run Tot (£)\"] = orders.groupby(['Customer ID', 'Order Month'])['Amount Paid (£)'].cumsum()\n",
    "```"
   ]
  },
  {
   "cell_type": "markdown",
   "metadata": {},
   "source": [
    "## Avg(…) over(partition by… ) → transform(np.mean)\n",
    "In a similar fashion, we may also wish to compute the average amount spent by each customer per month. This time the SQL syntax is quite intuitive:\n",
    "\n",
    "```\n",
    "orders[\"Run Avg (£)\"] = orders.groupby(['Customer ID', 'Order Month'])['Amount Paid (£)'].transform('mean').round(1)\n",
    "```\n",
    "\n",
    "The reason why we used pandas DataFrame.transform() function is that it allows us to keep the length of the Series equal to the length of the original dataset after computing the mean on the GroupBy object\n",
    "\n",
    "```\n",
    "orders[\"Run Avg (£)\"] = orders.groupby(['Customer ID', 'Order Month'])['Amount Paid (£)'].transform('mean').round(1)\n",
    "```\n",
    "\n",
    "> Note: to order by you need to sort the df first"
   ]
  },
  {
   "cell_type": "markdown",
   "metadata": {},
   "source": [
    "## means and sums over window lengths\n",
    "### Avg(…) over(partition by … order by .. rows between n preceding and current row) → rolling(window = …).mean()\n",
    "\n",
    "```\n",
    "avg(adj_close) over(order by date rows between 6 preceding and current row)\n",
    "```\n",
    "\n",
    "because you want to do it over a range you use rolling\n",
    "\n",
    "```\n",
    "\n",
    "aapl.sort_values(by= 'Date', ascending = True, inplace = True)\n",
    "\n",
    "aapl['Rolling Mean 7d'] = aapl['Adj Close'].rolling(7).mean().round(1)\n",
    "aapl['Expanding Mean 7d'] = aapl['Adj Close'].expanding().mean().round(1)\n",
    "```\n"
   ]
  },
  {
   "cell_type": "markdown",
   "metadata": {},
   "source": [
    "# Lead/Lag\n",
    "Moving a col up and down based on a value desired\n",
    "\n",
    "> `shift(n)` if n>0 then it shifts it up, if n<0 it shifts it down"
   ]
  },
  {
   "cell_type": "code",
   "execution_count": null,
   "metadata": {},
   "outputs": [],
   "source": []
  }
 ],
 "metadata": {
  "kernelspec": {
   "display_name": "Python 3 (ipykernel)",
   "language": "python",
   "name": "python3"
  },
  "language_info": {
   "codemirror_mode": {
    "name": "ipython",
    "version": 3
   },
   "file_extension": ".py",
   "mimetype": "text/x-python",
   "name": "python",
   "nbconvert_exporter": "python",
   "pygments_lexer": "ipython3",
   "version": "3.10.9"
  },
  "toc": {
   "base_numbering": 1,
   "nav_menu": {},
   "number_sections": true,
   "sideBar": true,
   "skip_h1_title": false,
   "title_cell": "Table of Contents",
   "title_sidebar": "Contents",
   "toc_cell": false,
   "toc_position": {},
   "toc_section_display": true,
   "toc_window_display": false
  }
 },
 "nbformat": 4,
 "nbformat_minor": 4
}
