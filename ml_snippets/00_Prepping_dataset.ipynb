{
 "cells": [
  {
   "cell_type": "code",
   "execution_count": 2,
   "metadata": {},
   "outputs": [],
   "source": [
    "import pandas as pd\n",
    "import numpy as np\n",
    "\n",
    "import matplotlib.pyplot as plt\n",
    "import matplotlib as mpl\n",
    "import seaborn as sns\n",
    "plt.style.use('ggplot')\n",
    "plt.style.use(['dark_background'])"
   ]
  },
  {
   "cell_type": "markdown",
   "metadata": {},
   "source": [
    "EDA\n",
    "    - what are the dtypes (are any accidentally strings or something)\n",
    "    - missing values\n",
    "    - dist of data (outliers, etc)\n",
    "    - relationships among vars (reg is corr, classification - boxplots could be helpful) \n",
    "\n",
    "Check the correlation\n",
    "    - looking for which are most correlated with response var (and if with e/o you know that one of them might be redundant - linear models will fail - its a linear alg thing with the determinant being zero so you can't invert it OR the solution space becomes a lot less well defined - think of all the different possibilities for betas being a huge space if two of them could be moving up/down relative to each other)\n",
    "    - note this is just linear corr and does not account for interactions between vars which may be much stronger than their individual linear correlation\n",
    "\n",
    "Missing values\n",
    "    - models cant deal with them (apparently xgboost will impute for you)\n",
    "    - impute the values using something like the expected value or you can get creative and interpolate (if its a tseries) or you could use unsupervised (knn? kmeans?)\n",
    "    - throw away the variable (or individual rows if you have enough data)\n",
    "    - (context spec) if important - a missing val might be useful information for model - encode as a categorical variable (varA_ismissing)\n",
    "\n",
    "outliers\n",
    "    - need to check the distributions of ind vars\n",
    "    - outliers can either be imputed or the whole row thrown if you don't trust it\n",
    "    - Matt likes to scroll through the file sometimes (should be first step - easy to catch crazy engr bugs)\n",
    "    - not as big of a deal in tree space\n",
    "\n",
    "\n",
    "encoding categorical vars\n",
    "    - trees: do not require 1-hot, simply numerically encoding them should be sufficient \n",
    "        - (high cardinality still may be addressed if we think we can group certain ones together in some unsupervised way - think of maybe not encoding a user as a uid but instead as something we think will be useful to the model - like their preference of whatever)]\n",
    "        - user-space: you can take the ave of response var for each user/category (only if it doesn't introduce leakage - so temporal considerations in creating this)\n",
    "            - won't work if variance in response var is high for each user/category\n",
    "            - won't work if you don't have enough data to do this perhaps (if some do, you can do it for them and then give the rest the average and even give them another is\n",
    "            - bayesian updating for users mean for past user behavior (i.e. your prior starts at the global mean, then it updates as you go along)\n",
    "    - linear models: require 1-hot encoding (which might blow up your feature space)\n",
    "    - if they aren't useful, you can also throw them out\n",
    "    \n",
    "reducing cardinality\n",
    "    - PCA could work for a bunch of continuous variables\n",
    "\n",
    "standardization\n",
    "    - don't need to do this for trees (so you're input variables are in a human interpretable form)\n",
    "    - leakage note: only do with training set and hold onto the mean,std for inference time"
   ]
  },
  {
   "cell_type": "code",
   "execution_count": null,
   "metadata": {},
   "outputs": [],
   "source": []
  }
 ],
 "metadata": {
  "kernelspec": {
   "display_name": "Python 3",
   "language": "python",
   "name": "python3"
  },
  "language_info": {
   "codemirror_mode": {
    "name": "ipython",
    "version": 3
   },
   "file_extension": ".py",
   "mimetype": "text/x-python",
   "name": "python",
   "nbconvert_exporter": "python",
   "pygments_lexer": "ipython3",
   "version": "3.7.7"
  },
  "toc": {
   "base_numbering": 1,
   "nav_menu": {},
   "number_sections": true,
   "sideBar": true,
   "skip_h1_title": false,
   "title_cell": "Table of Contents",
   "title_sidebar": "Contents",
   "toc_cell": false,
   "toc_position": {},
   "toc_section_display": true,
   "toc_window_display": false
  }
 },
 "nbformat": 4,
 "nbformat_minor": 2
}
